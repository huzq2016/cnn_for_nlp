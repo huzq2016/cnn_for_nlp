{
 "cells": [
  {
   "cell_type": "raw",
   "id": "aad1ce6c",
   "metadata": {},
   "source": [
    "from https://towardsdatascience.com/nlp-with-cnns-a6aa743bdc1e\n",
    "\n",
    "data from https://ai.stanford.edu/~amaas/data/sentiment/\n"
   ]
  },
  {
   "cell_type": "code",
   "execution_count": 8,
   "id": "3598586b",
   "metadata": {},
   "outputs": [],
   "source": [
    "from tensorflow.keras import Sequential\n",
    "from tensorflow.keras.layers import Conv1D, GlobalMaxPooling1D, Dense, Dropout, Activation"
   ]
  },
  {
   "cell_type": "code",
   "execution_count": 4,
   "id": "e2b08a4a",
   "metadata": {},
   "outputs": [],
   "source": [
    "##hyper parameters\n",
    "batch_size = 32\n",
    "maxlen = 400\n",
    "embedding_dims = 300 #Length of the token vectors\n",
    "filters = 250 #number of filters in your Convnet\n",
    "kernel_size = 3 # a window size of 3 tokens\n",
    "hidden_dims = 250 #number of neurons at the normal feedforward NN\n",
    "epochs = 2"
   ]
  },
  {
   "cell_type": "code",
   "execution_count": 5,
   "id": "646e7467",
   "metadata": {},
   "outputs": [],
   "source": [
    "model = Sequential()\n",
    "model.add(\n",
    "    Conv1D(\n",
    "        filters,\n",
    "        kernel_size,\n",
    "        padding = 'valid' , \n",
    "        activation = 'relu',\n",
    "        strides = 1 , \n",
    "        input_shape = (maxlen,embedding_dims)\n",
    "    )\n",
    ")\n",
    "\n",
    "\n"
   ]
  },
  {
   "cell_type": "code",
   "execution_count": 7,
   "id": "e1e1e0a8",
   "metadata": {},
   "outputs": [],
   "source": [
    "model.add(GlobalMaxPooling1D())\n",
    "#GlobalMaxPooling1D(n) default = 2."
   ]
  },
  {
   "cell_type": "code",
   "execution_count": 9,
   "id": "ea0382fe",
   "metadata": {},
   "outputs": [],
   "source": [
    "model.add(Dense(hidden_dims))\n",
    "model.add(Dropout(0.2))\n",
    "model.add(Activation('relu'))\n",
    "model.add(Dense(1))\n",
    "model.add(Activation('sigmoid'))"
   ]
  },
  {
   "cell_type": "code",
   "execution_count": null,
   "id": "3a7045ba",
   "metadata": {},
   "outputs": [],
   "source": [
    "model.compile(loss = 'binary_crossentropy',optimizer = 'adam', metrics = ['accuracy'])\n",
    "model.fit(x_train,y_train,batch_size = batch_size,epochs = epochs , validation_data = (x_test,y_test))"
   ]
  },
  {
   "cell_type": "raw",
   "id": "f7bf6016",
   "metadata": {},
   "source": [
    "takaways:\n",
    " - CNNs can be used for different classification tasks in NLP.\n",
    " - A convolution is a window that slides over a larger input data with an emphasis on a subset of the input matrix.\n",
    "Getting your data in the right dimensions is extremely important for any learning algorithm."
   ]
  }
 ],
 "metadata": {
  "kernelspec": {
   "display_name": "base",
   "language": "python",
   "name": "base"
  },
  "language_info": {
   "codemirror_mode": {
    "name": "ipython",
    "version": 3
   },
   "file_extension": ".py",
   "mimetype": "text/x-python",
   "name": "python",
   "nbconvert_exporter": "python",
   "pygments_lexer": "ipython3",
   "version": "3.10.6"
  }
 },
 "nbformat": 4,
 "nbformat_minor": 5
}
